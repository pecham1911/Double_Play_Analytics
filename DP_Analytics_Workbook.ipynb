{
 "cells": [
  {
   "cell_type": "markdown",
   "metadata": {},
   "source": [
    "Double Play Analytics\n",
    "\n",
    "(1) Forecast the outcome of games; (2) understand the most important factors that influence the outcome of games.\n",
    "\n",
    "- WAR stat\n",
    "- Sabermetrics/Billy Beane/defense\n",
    "- Athletics - move to Vegas?\n",
    "- How to build a park? How to build a team for your park , e.g. left handed pull hitters for Yankee stadium - have a short right field porch/fence; CO the ball travels further so they have a huge outfield - so need fast players to cover the ground.\n",
    "- Which parks see the most home runs - holding xyz factors constant\n",
    "- Most important factors of a win? \n",
    "    - Pitching (start), pitching (reliever/closer), defense, runs/hitting (consistent), homeruns, the park, OBP, other?\n",
    "    - run consistency - can you get at least 3 runs per game x percent of the time?\n",
    "- Mental fortitude as a factor/clutch performance"
   ]
  },
  {
   "cell_type": "code",
   "execution_count": null,
   "metadata": {},
   "outputs": [],
   "source": [
    "# Bringing in packages for EDA, pre-processing, modeling, and visualizations\n",
    "import pandas as pd\n",
    "import numpy as np\n",
    "\n",
    "from sklearn.model_selection import train_test_split\n",
    "from sklearn.ensemble import RandomForestClassifier\n",
    "from sklearn.metrics import accuracy_score, precision_score, confusion_matrix, plot_confusion_matrix, recall_score\n",
    "from sklearn.model_selection import GridSearchCV\n",
    "from sklearn.metrics import classification_report\n",
    "\n",
    "import matplotlib.pyplot as plt\n",
    "import seaborn as sns\n",
    "#import os\n",
    "\n",
    "#from collections import Counter\n",
    "#import re\n"
   ]
  },
  {
   "cell_type": "markdown",
   "metadata": {},
   "source": [
    "#### Create a single dataset"
   ]
  },
  {
   "cell_type": "code",
   "execution_count": null,
   "metadata": {},
   "outputs": [],
   "source": [
    "file_paths = [\"data/gl2010.txt\", \"data/gl2011.txt\", \"data/gl2012.txt\", \"data/gl2013.txt\", \"data/gl2014.txt\",\n",
    "              \"data/gl2015.txt\", \"data/gl2016.txt\", \"data/gl2017.txt\", \"data/gl2018.txt\", \"data/gl2019.txt\",\n",
    "              \"data/gl2020.txt\", \"data/gl2021.txt\", \"data/gl2022.txt\", \"data/gl2023.txt\"]"
   ]
  },
  {
   "cell_type": "code",
   "execution_count": null,
   "metadata": {},
   "outputs": [],
   "source": [
    "dfs=[]"
   ]
  },
  {
   "cell_type": "code",
   "execution_count": null,
   "metadata": {},
   "outputs": [],
   "source": [
    "for file_path in file_paths:\n",
    "    with open(file_path, \"r\") as f:\n",
    "        # Read lines from the file\n",
    "        data = f.readlines()\n",
    "        # Split each line by comma and create a list of lists\n",
    "        data_split = [line.strip().split(\",\") for line in data]\n",
    "        # Create DataFrame from the data\n",
    "        df_initial = pd.DataFrame(data_split)\n",
    "        # Append DataFrame to the list\n",
    "        dfs.append(df_initial)"
   ]
  },
  {
   "cell_type": "code",
   "execution_count": null,
   "metadata": {},
   "outputs": [],
   "source": [
    "# Concatenate all DataFrames in the list\n",
    "df = pd.concat(dfs, ignore_index=True)"
   ]
  },
  {
   "cell_type": "markdown",
   "metadata": {},
   "source": [
    "#### Understand what the data look like"
   ]
  },
  {
   "cell_type": "code",
   "execution_count": null,
   "metadata": {},
   "outputs": [],
   "source": [
    "# Set the display width to accommodate more characters per row\n",
    "pd.set_option('display.width', 1000)  # Adjust as needed\n",
    "\n",
    "# Set display options\n",
    "pd.set_option('display.max_rows', None)\n",
    "pd.set_option('display.max_columns', None)\n",
    "\n",
    "# Display the head of the DataFrame\n",
    "df.info()"
   ]
  },
  {
   "cell_type": "code",
   "execution_count": null,
   "metadata": {},
   "outputs": [],
   "source": [
    "df.head()"
   ]
  },
  {
   "cell_type": "code",
   "execution_count": null,
   "metadata": {},
   "outputs": [],
   "source": [
    "df.tail()"
   ]
  },
  {
   "cell_type": "code",
   "execution_count": null,
   "metadata": {},
   "outputs": [],
   "source": [
    "df.describe()"
   ]
  },
  {
   "cell_type": "code",
   "execution_count": null,
   "metadata": {},
   "outputs": [],
   "source": [
    "df.shape"
   ]
  },
  {
   "cell_type": "code",
   "execution_count": null,
   "metadata": {},
   "outputs": [],
   "source": [
    "nan_values = df.isna().any()\n",
    "nan_values"
   ]
  },
  {
   "cell_type": "code",
   "execution_count": null,
   "metadata": {},
   "outputs": [],
   "source": [
    "df.dtypes"
   ]
  },
  {
   "cell_type": "code",
   "execution_count": null,
   "metadata": {},
   "outputs": [],
   "source": [
    "df.count()"
   ]
  },
  {
   "cell_type": "markdown",
   "metadata": {},
   "source": [
    "#### Preparing data for more EDA (easier to use with names)"
   ]
  },
  {
   "cell_type": "code",
   "execution_count": null,
   "metadata": {},
   "outputs": [],
   "source": [
    "# Dropping the columns with minimal information at the END of the dataset\n",
    "# Additional dropping needed--> \n",
    "df.drop(columns=df.columns[161:179], inplace=True)"
   ]
  },
  {
   "cell_type": "code",
   "execution_count": null,
   "metadata": {},
   "outputs": [],
   "source": [
    "# Renaming the columns to something more descriptive\n",
    "new_column_names = {\n",
    "    0: 'date',\n",
    "    1: 'num_games',\n",
    "    2: 'day_of_week',\n",
    "    3: 'team_visiting',\n",
    "    4: 'league_visiting',\n",
    "    5: 'game_num_visiting',\n",
    "    6: 'team_home',\n",
    "    7: 'league_home',\n",
    "    8: 'game_num_home',\n",
    "    9: 'score_visiting',\n",
    "    10: 'score_home',\n",
    "    11: 'outs_in_game',\n",
    "    12: 'time_of_day',\n",
    "    13: 'game_completed',\n",
    "    14: 'forfeit',\n",
    "    15: 'protest',\n",
    "    16: 'park_id',\n",
    "    17: 'attendance',\n",
    "    18: 'length_min',\n",
    "    19: 'line_score_visiting',\n",
    "    20: 'line_score_home',    \n",
    "    21: 'at_bats_visiting',\n",
    "    22: 'hits_visiting',\n",
    "    23: 'double_visiting',\n",
    "    24: 'triple_visiting',\n",
    "    25: 'home_run_visiting',\n",
    "    26: 'rbi_visiting',\n",
    "    27: 'sacrifice_hit_visiting',\n",
    "    28: 'sacrifine_fly_visiting',\n",
    "    29: 'hit_by_pitch_visiting',\n",
    "    30: 'walk_visiting',\n",
    "    31: 'intent_walk_visiting',\n",
    "    32: 'strikeout_visiting',\n",
    "    33: 'stolen_base_visiting',\n",
    "    34: 'caught_stealing_visiting',\n",
    "    35: 'grounded_into_double_plays_visiting',\n",
    "    36: 'first_catcher_interfere_visiting',\n",
    "    37: 'left_on_base_visiting',\n",
    "    38: 'pitchers_used_visiting',\n",
    "    39: 'individual_earned_runs_visiting',\n",
    "    40: 'team_earned_runs_visiting',\n",
    "    41: 'wild_pitches_visiting',\n",
    "    42: 'balks_visiting',\n",
    "    43: 'putouts_visiting',   \n",
    "    44: 'assists_visiting',\n",
    "    45: 'errors_visiting',\n",
    "    46: 'passed_balls_visiting',\n",
    "    47: 'double_def_visiting',\n",
    "    48: 'triple_def_visiting',       \n",
    "    49: 'at_bats_home',\n",
    "    50: 'hits_home',\n",
    "    51: 'double_home',\n",
    "    52: 'triple_home',\n",
    "    53: 'home_run_home',\n",
    "    54: 'rbi_home',\n",
    "    55: 'sacrifice_hit_home',\n",
    "    56: 'sacrifine_fly_home',\n",
    "    57: 'hit_by_pitch_home',\n",
    "    58: 'walk_home',\n",
    "    59: 'intent_walk_home',\n",
    "    60: 'strikeout_home',\n",
    "    61: 'stolen_base_home',\n",
    "    62: 'caught_stealing_home',\n",
    "    63: 'grounded_into_double_plays_home',\n",
    "    64: 'first_catcher_interfere_home',\n",
    "    65: 'left_on_base_home',\n",
    "    66: 'pitchers_used_home',\n",
    "    67: 'individual_earned_runs_home',\n",
    "    68: 'team_earned_runs_home',\n",
    "    69: 'wild_pitches_home',\n",
    "    70: 'balks_home',\n",
    "    71: 'putouts_home',\n",
    "    72: 'assists_home',\n",
    "    73: 'errors_home',\n",
    "    74: 'passed_balls_home',\n",
    "    75: 'double_def_home',\n",
    "    76: 'triple_def_home',    \n",
    "    77: 'home_ump_id',\n",
    "    78: 'home_ump_name',\n",
    "    79: '1B_ump_id',\n",
    "    80: '1B_ump_name',\n",
    "    81: '2B_ump_id',\n",
    "    82: '2B_ump_name',\n",
    "    83: '3B_ump_id',\n",
    "    84: '3B_ump_name',\n",
    "    85: 'LF_ump_id',\n",
    "    86: 'LF_ump_name',\n",
    "    87: 'RF_ump_id',\n",
    "    88: 'RF_ump_name',\n",
    "    89: 'manager_id_visiting',\n",
    "    90: 'manager_name_visiting',\n",
    "    91: 'manager_id_home',\n",
    "    92: 'manager_name_home',\n",
    "    93: 'winning_pitcher_id',\n",
    "    94: 'winning_pitcher_name',\n",
    "    95: 'losing_pitcher_id',\n",
    "    96: 'losing_pitcher_name',\n",
    "    97: 'saving_pitcher_id',\n",
    "    98: 'saving_pitcher_name',\n",
    "    99: 'game_winning_rbi_id',\n",
    "    100: 'game_winning_rbi_name',\n",
    "    101: 'starting_pitcher_id_visiting',\n",
    "    102: 'starting_pitcher_name_visiting',\n",
    "    103: 'starting_pitcher_id_home',\n",
    "    104: 'starting_pitcher_name_home',\n",
    "    105: 'player1_id_visiting',\n",
    "    106: 'player1_name_visiting',\n",
    "    107: 'player1_position_visiting',\n",
    "    108: 'player2_id_visiting',\n",
    "    109: 'player2_name_visiting',\n",
    "    110: 'player2_position_visiting',\n",
    "    111: 'player3_id_visiting',\n",
    "    112: 'player3_name_visiting',\n",
    "    113: 'player3_position_visiting',\n",
    "    114: 'player4_id_visiting',\n",
    "    115: 'player4_name_visiting',\n",
    "    116: 'player4_position_visiting',\n",
    "    117: 'player5_id_visiting',\n",
    "    118: 'player5_name_visiting',\n",
    "    119: 'player5_position_visiting',\n",
    "    120: 'player6_id_visiting',\n",
    "    121: 'player6_name_visiting',\n",
    "    122: 'player6_position_visiting',\n",
    "    123: 'player7_id_visiting',\n",
    "    124: 'player7_name_visiting',\n",
    "    125: 'player7_position_visiting',\n",
    "    126: 'player8_id_visiting',\n",
    "    127: 'player8_name_visiting',\n",
    "    128: 'player8_position_visiting',\n",
    "    129: 'player9_id_visiting',\n",
    "    130: 'player9_name_visiting',\n",
    "    131: 'player9_position_visiting',    \n",
    "    132: 'player1_id_home',\n",
    "    133: 'player1_name_home',\n",
    "    134: 'player1_position_home',\n",
    "    135: 'player2_id_home',\n",
    "    136: 'player2_name_home',\n",
    "    137: 'player2_position_home',\n",
    "    138: 'player3_id_home',\n",
    "    139: 'player3_name_home',\n",
    "    140: 'player3_position_home',\n",
    "    141: 'player4_id_home',\n",
    "    142: 'player4_name_home',\n",
    "    143: 'player4_position_home',\n",
    "    144: 'player5_id_home',\n",
    "    145: 'player5_name_home',\n",
    "    146: 'player5_position_home',\n",
    "    147: 'player6_id_home',\n",
    "    148: 'player6_name_home',\n",
    "    149: 'player6_position_home',\n",
    "    150: 'player7_id_home',\n",
    "    151: 'player7_name_home',\n",
    "    152: 'player7_position_home',\n",
    "    153: 'player8_id_home',\n",
    "    154: 'player8_name_home',\n",
    "    155: 'player8_position_home',\n",
    "    156: 'player9_id_home',\n",
    "    157: 'player9_name_home',\n",
    "    158: 'player9_position_home',\n",
    "    159: 'misc',\n",
    "    160: 'acquisition'\n",
    "}\n",
    "\n",
    "# Rename columns\n",
    "df.rename(columns=new_column_names, inplace=True)"
   ]
  },
  {
   "cell_type": "code",
   "execution_count": null,
   "metadata": {},
   "outputs": [],
   "source": [
    "df['num_games'] = df['num_games'].str.strip('\"\"')"
   ]
  },
  {
   "cell_type": "code",
   "execution_count": null,
   "metadata": {},
   "outputs": [],
   "source": [
    "df['num_games'] = df['num_games'].astype(int)"
   ]
  },
  {
   "cell_type": "code",
   "execution_count": null,
   "metadata": {},
   "outputs": [],
   "source": [
    "################ Do I need to remove num_games here since it's also in the call above?\n",
    "# Converting most numeric columns from strings to integers\n",
    "columns_to_convert = [\n",
    "    \"num_games\", \n",
    "    \"game_num_visiting\", \n",
    "    \"game_num_home\", \n",
    "    \"score_visiting\", \n",
    "    'game_num_home', \n",
    "    'score_visiting',    \n",
    "    'score_home', \n",
    "    \"outs_in_game\", \n",
    "    \"attendance\", \n",
    "    \"length_min\", \n",
    "    \"at_bats_visiting\",                      \n",
    "    \"hits_visiting\", \n",
    "    \"double_visiting\", \n",
    "    \"triple_visiting\", \n",
    "    \"home_run_visiting\", \n",
    "    \"rbi_visiting\", \n",
    "    \"sacrifice_hit_visiting\",  \n",
    "    'sacrifine_fly_visiting',\n",
    "    'hit_by_pitch_visiting',\n",
    "    'walk_visiting',\n",
    "    'intent_walk_visiting',\n",
    "    'strikeout_visiting',\n",
    "    'stolen_base_visiting',\n",
    "    'caught_stealing_visiting',\n",
    "    'grounded_into_double_plays_visiting',\n",
    "    'first_catcher_interfere_visiting',\n",
    "    'left_on_base_visiting',\n",
    "    'pitchers_used_visiting',\n",
    "    'individual_earned_runs_visiting',\n",
    "    'team_earned_runs_visiting',\n",
    "    'wild_pitches_visiting',\n",
    "    'balks_visiting',\n",
    "    'putouts_visiting',   \n",
    "    'assists_visiting',\n",
    "    'errors_visiting',\n",
    "    'passed_balls_visiting',\n",
    "    'double_def_visiting',\n",
    "    'triple_def_visiting',       \n",
    "    'at_bats_home',\n",
    "    'hits_home',\n",
    "    'double_home',\n",
    "    'triple_home',\n",
    "    'home_run_home',\n",
    "    'rbi_home',\n",
    "    'sacrifice_hit_home',\n",
    "    'sacrifine_fly_home',\n",
    "    'hit_by_pitch_home',\n",
    "    'walk_home',\n",
    "    'intent_walk_home',\n",
    "    'strikeout_home',\n",
    "    'stolen_base_home',\n",
    "    'caught_stealing_home',\n",
    "    'grounded_into_double_plays_home',\n",
    "    'first_catcher_interfere_home',\n",
    "    'left_on_base_home',\n",
    "    'pitchers_used_home',\n",
    "    'individual_earned_runs_home',\n",
    "    'team_earned_runs_home',\n",
    "    'wild_pitches_home',\n",
    "    'balks_home',\n",
    "    'putouts_home',\n",
    "    'assists_home',\n",
    "    'errors_home',\n",
    "    'passed_balls_home',\n",
    "    'double_def_home',\n",
    "    'triple_def_home']\n",
    "\n",
    "# Player positions are numeric, but are being left as strings"
   ]
  },
  {
   "cell_type": "code",
   "execution_count": null,
   "metadata": {},
   "outputs": [],
   "source": [
    "df[columns_to_convert] = df[columns_to_convert].apply(pd.to_numeric, errors='coerce')"
   ]
  },
  {
   "cell_type": "code",
   "execution_count": null,
   "metadata": {},
   "outputs": [],
   "source": [
    "# Trying to convert these columns to strings--\n",
    "columns_to_convert_strings = [\n",
    "  'date',\n",
    "  'num_games',\n",
    "  'day_of_week',\n",
    "  'team_visiting',\n",
    "  'league_visiting',\n",
    "  'team_home',\n",
    "  'league_home',   \n",
    "  'time_of_day',\n",
    "  'park_id',    \n",
    "  'line_score_visiting',\n",
    "  'line_score_home', \n",
    "  'home_ump_id',\n",
    "  'home_ump_name',\n",
    "  '1B_ump_id',\n",
    "  '1B_ump_name',\n",
    "  '2B_ump_id',\n",
    "  '2B_ump_name',\n",
    "  '3B_ump_id',\n",
    "  '3B_ump_name',\n",
    "  'LF_ump_id',\n",
    "  'LF_ump_name',\n",
    "  'RF_ump_id',\n",
    "  'RF_ump_name',\n",
    "  'manager_id_visiting',\n",
    "  'manager_name_visiting',\n",
    "  'manager_id_home',\n",
    "  'manager_name_home',\n",
    "  'winning_pitcher_id',\n",
    "  'winning_pitcher_name',\n",
    "  'losing_pitcher_id',\n",
    "  'losing_pitcher_name',\n",
    "  'saving_pitcher_id',\n",
    "  'saving_pitcher_name',\n",
    "  'game_winning_rbi_id',\n",
    "  'game_winning_rbi_name',\n",
    "  'starting_pitcher_id_visiting',\n",
    "  'starting_pitcher_name_visiting',\n",
    "  'starting_pitcher_id_home',\n",
    "  'starting_pitcher_name_home',\n",
    "  'player1_id_visiting',\n",
    "  'player1_name_visiting',\n",
    "  'player2_id_visiting',\n",
    "  'player2_name_visiting',\n",
    "  'player3_id_visiting',\n",
    "  'player3_name_visiting',\n",
    "  'player4_id_visiting',\n",
    "  'player4_name_visiting',\n",
    "  'player5_id_visiting',\n",
    "  'player5_name_visiting',\n",
    "  'player6_id_visiting',\n",
    "  'player6_name_visiting',\n",
    "  'player7_id_visiting',\n",
    "  'player7_name_visiting',\n",
    "  'player8_id_visiting',\n",
    "  'player8_name_visiting',\n",
    "  'player9_id_visiting',\n",
    "  'player9_name_visiting',\n",
    "  'player1_id_home',\n",
    "  'player1_name_home',\n",
    "  'player2_id_home',\n",
    "  'player2_name_home',\n",
    "  'player3_id_home',\n",
    "  'player3_name_home',\n",
    "  'player4_id_home',\n",
    "  'player4_name_home',\n",
    "  'player5_id_home',\n",
    "  'player5_name_home',\n",
    "  'player6_id_home',\n",
    "  'player6_name_home',\n",
    "  'player7_id_home',\n",
    "  'player7_name_home',\n",
    "  'player8_id_home',\n",
    "  'player8_name_home',\n",
    "  'player9_id_home',\n",
    "  'player9_name_home',\n",
    "  'acquisition']"
   ]
  },
  {
   "cell_type": "code",
   "execution_count": null,
   "metadata": {},
   "outputs": [],
   "source": [
    "df[columns_to_convert_strings] = df[columns_to_convert_strings].applymap(lambda x: x.strip('\"\"') if isinstance(x, str) else x)"
   ]
  },
  {
   "cell_type": "code",
   "execution_count": null,
   "metadata": {},
   "outputs": [],
   "source": [
    "df.head()"
   ]
  },
  {
   "cell_type": "code",
   "execution_count": null,
   "metadata": {},
   "outputs": [],
   "source": [
    "df.describe()"
   ]
  },
  {
   "cell_type": "code",
   "execution_count": null,
   "metadata": {},
   "outputs": [],
   "source": [
    "df.count()"
   ]
  },
  {
   "cell_type": "code",
   "execution_count": null,
   "metadata": {},
   "outputs": [],
   "source": [
    "df.dtypes"
   ]
  },
  {
   "cell_type": "markdown",
   "metadata": {},
   "source": [
    "##### Columns with missing data- \n",
    "I think it's likely I won't be using attendance or length_min- will likely drop full columns\n",
    "For the other three I will likely drop the rows, not a noteable number of missings, no reason to believe there is anything systematic about these missings, but I'll look to confirm, e.g., same season, same team, etc.\n",
    "\n",
    "Initial total rows = 32484 \n",
    "\n",
    "Dropped column\n",
    "- attendance                             31549\n",
    "- length_min                             32446\n",
    "- protest\n",
    "- misc\n",
    "\n",
    "Dropped rows\n",
    "- year = 2020; removed this, but not so sure. If I'm not analyzing by year it feels weird to remove it.\n",
    "- at_bats_visiting                       32479\n",
    "- double_visiting                        32446\n",
    "- triple_visiting                        32446\n",
    "\n",
    "\n",
    "##### Fields with large 'missing' /NA - how to handle these missing? \n",
    " - saving_pitcher_id\n",
    " - saving_pitcher_name\n",
    " - game_winning_rbi_id\n",
    " - game_winning_rbi_name\n",
    " \n"
   ]
  },
  {
   "cell_type": "code",
   "execution_count": null,
   "metadata": {},
   "outputs": [],
   "source": [
    "# Dropping rows with missing values in the listed columns\n",
    "df.dropna(subset=[\"at_bats_visiting\", \"double_visiting\", \"triple_visiting\"], inplace=True)"
   ]
  },
  {
   "cell_type": "code",
   "execution_count": null,
   "metadata": {},
   "outputs": [],
   "source": [
    "# This drops the partial 2020 season; not sure I want to drop it. It was an odd year, \n",
    "# but unless I'm looking at year as a factor what is the impact of keeping it in?\n",
    "# df = df[df['year'] != 2020]"
   ]
  },
  {
   "cell_type": "code",
   "execution_count": null,
   "metadata": {},
   "outputs": [],
   "source": [
    "df.drop(columns=[\"attendance\", \"length_min\", \"game_completed\", \"forfeit\", \"LF_ump_id\", \"LF_ump_name\", \"RF_ump_id\", \"RF_ump_name\", \"protest\", \"misc\"], inplace=True)\n",
    "#both game_completed and forfeit had zero values/100% null for this timeframe\n",
    "#LF_ump_id, LF_ump_name, RF_ump_id, RF_ump_name have three values each; these umps rarely used in regular season games"
   ]
  },
  {
   "cell_type": "code",
   "execution_count": null,
   "metadata": {},
   "outputs": [],
   "source": [
    "df['team_visiting'].replace({\"FLO\": \"MIA\"}, inplace=True)\n",
    "df['team_home'].replace({\"FLO\": \"MIA\"}, inplace=True)"
   ]
  },
  {
   "cell_type": "code",
   "execution_count": null,
   "metadata": {},
   "outputs": [],
   "source": [
    "df.head()"
   ]
  },
  {
   "cell_type": "markdown",
   "metadata": {},
   "source": [
    "#### Create new features"
   ]
  },
  {
   "cell_type": "code",
   "execution_count": null,
   "metadata": {},
   "outputs": [],
   "source": [
    "# Creating an integer four-digit year feature\n",
    "\n",
    "# Extract the first four characters\n",
    "year_digits = df['date'].str[0:4]\n",
    "\n",
    "# Convert the extracted substring to numeric\n",
    "df['year'] = pd.to_numeric(year_digits)\n",
    "\n",
    "# Print the result\n",
    "print(df[\"year\"])\n"
   ]
  },
  {
   "cell_type": "code",
   "execution_count": null,
   "metadata": {},
   "outputs": [],
   "source": [
    "df['year'] = df['year'].astype(int)"
   ]
  },
  {
   "cell_type": "code",
   "execution_count": null,
   "metadata": {},
   "outputs": [],
   "source": [
    "# Creating a feature for the winning team for each game/row\n",
    "def compare_and_get_value(row):\n",
    "    if row['score_visiting'] > row['score_home']:\n",
    "        return row['team_visiting']\n",
    "    elif row ['score_home'] > row['score_visiting']:\n",
    "        return row['team_home']\n",
    "    else:\n",
    "        return 'tie_game'\n",
    "\n",
    "# Create a new feature based on the comparison\n",
    "df['winning_team'] = df.apply(compare_and_get_value, axis=1)\n",
    "\n",
    "# There is one game that ended in a tie, CNC and PIT Sept 29, 2016 "
   ]
  },
  {
   "cell_type": "code",
   "execution_count": null,
   "metadata": {},
   "outputs": [],
   "source": [
    "df['winning_team'].value_counts()"
   ]
  },
  {
   "cell_type": "code",
   "execution_count": null,
   "metadata": {},
   "outputs": [],
   "source": [
    "def calculate_run_differential(row):\n",
    "    if row['winning_team'] == row['team_home']:\n",
    "        return row['score_home'] - row['score_visiting']\n",
    "    else:\n",
    "        return row['score_visiting'] - row['score_home']\n",
    "\n",
    "# Apply the function to create a new column 'goal_difference'\n",
    "df['run_differential'] = df.apply(calculate_run_differential, axis=1)"
   ]
  },
  {
   "cell_type": "code",
   "execution_count": null,
   "metadata": {},
   "outputs": [],
   "source": [
    "df['run_differential'].value_counts()"
   ]
  },
  {
   "cell_type": "code",
   "execution_count": null,
   "metadata": {},
   "outputs": [],
   "source": [
    "# Filter the DataFrame to include only rows where 'run differential' is 0, i.e., a tie game\n",
    "observation = df[df['run_differential'] == 0]\n",
    "\n",
    "# Print the entire row(s) corresponding to the observation(s) with a goal difference of 0\n",
    "observation\n",
    "\n",
    "# There is one game that ended in a tie, CNC and PIT Sept 29, 2016 "
   ]
  },
  {
   "cell_type": "code",
   "execution_count": null,
   "metadata": {},
   "outputs": [],
   "source": [
    "# Total Runs per Game\n",
    "df['total_runs'] = df['score_home'] + df['score_visiting']\n"
   ]
  },
  {
   "cell_type": "code",
   "execution_count": null,
   "metadata": {},
   "outputs": [],
   "source": [
    "# Combine 'team_home' and 'team_visiting' columns into a single column\n",
    "df['teams'] = df['team_home'].append(df['team_visiting'], ignore_index=True)\n",
    "\n",
    "df['teams'].value_counts()"
   ]
  },
  {
   "cell_type": "code",
   "execution_count": null,
   "metadata": {},
   "outputs": [],
   "source": [
    "# Combine 'team_home' and 'team_visiting' columns into a single column\n",
    "df['strikeouts'] = df['strikeout_home'].append(df['strikeout_visiting'], ignore_index=True)\n",
    "\n",
    "df['strikeouts'].value_counts()"
   ]
  },
  {
   "cell_type": "markdown",
   "metadata": {},
   "source": [
    "#### Crosstabs and Value Counts"
   ]
  },
  {
   "cell_type": "code",
   "execution_count": null,
   "metadata": {},
   "outputs": [],
   "source": [
    "#cross_tab = pd.crosstab(df['team_home'], df['outs_in_game'])\n",
    "#print(cross_tab)"
   ]
  },
  {
   "cell_type": "code",
   "execution_count": null,
   "metadata": {},
   "outputs": [],
   "source": [
    "grouped_df = df.groupby('teams')['total_runs'].sum()\n",
    "grouped_df.head()"
   ]
  },
  {
   "cell_type": "code",
   "execution_count": null,
   "metadata": {},
   "outputs": [],
   "source": [
    "grouped_df = df.groupby(['teams', 'year'])['total_runs'].sum()\n",
    "grouped_df.head(20)"
   ]
  },
  {
   "cell_type": "code",
   "execution_count": null,
   "metadata": {},
   "outputs": [],
   "source": [
    "cross_tab2 = pd.crosstab(df['strikeouts'], df['year'])\n",
    "print(cross_tab2)"
   ]
  },
  {
   "cell_type": "code",
   "execution_count": null,
   "metadata": {},
   "outputs": [],
   "source": [
    "sns.barplot(x='year', y='strikeouts', data=df, estimator=sum)\n",
    "\n",
    "# Add labels and title\n",
    "plt.xlabel('Year')\n",
    "plt.ylabel('Strikeouts')\n",
    "plt.title('Total Strikeouts by Year')\n",
    "\n",
    "# Rotate x-axis labels for better readability if needed\n",
    "plt.xticks(rotation=45)\n",
    "\n",
    "# Show plot\n",
    "plt.show()"
   ]
  },
  {
   "cell_type": "code",
   "execution_count": null,
   "metadata": {},
   "outputs": [],
   "source": [
    "sns.barplot(x='teams', y='strikeouts', data=df, estimator=sum)\n",
    "\n",
    "# Add labels and title\n",
    "plt.xlabel('Teams')\n",
    "plt.ylabel('Strikeouts')\n",
    "plt.title('Total Strikeouts by Team')\n",
    "\n",
    "# Rotate x-axis labels for better readability if needed\n",
    "plt.xticks(rotation=45)\n",
    "\n",
    "# Show plot\n",
    "plt.show()"
   ]
  },
  {
   "cell_type": "code",
   "execution_count": null,
   "metadata": {},
   "outputs": [],
   "source": [
    "# Runs by Year\n",
    "sns.barplot(x='year', y='total_runs', data=df, estimator=sum)\n",
    "\n",
    "# Add labels and title\n",
    "plt.xlabel('Year')\n",
    "plt.ylabel('Runs')\n",
    "plt.title('Runs by Year')\n",
    "\n",
    "# Rotate x-axis labels for better readability if needed\n",
    "plt.xticks(rotation=45)\n",
    "\n",
    "# Show plot\n",
    "plt.show()"
   ]
  },
  {
   "cell_type": "code",
   "execution_count": null,
   "metadata": {},
   "outputs": [],
   "source": [
    "df['total_runs'].describe()"
   ]
  },
  {
   "cell_type": "code",
   "execution_count": null,
   "metadata": {},
   "outputs": [],
   "source": [
    "df['total_runs'] = pd.to_numeric(df['total_runs'])\n",
    "df_sorted = df.sort_values(by='total_runs', ascending=False)"
   ]
  },
  {
   "cell_type": "code",
   "execution_count": null,
   "metadata": {},
   "outputs": [],
   "source": [
    "# Sort the DataFrame by total_runs in descending order\n",
    "\n",
    "# Plot using seaborn\n",
    "plt.figure(figsize=(10, 6))\n",
    "sns.barplot(x='total_runs', y='teams', data=df_sorted, palette='viridis')\n",
    "plt.xlabel('Runs')\n",
    "plt.ylabel('Team')\n",
    "plt.title('Number of Runs by Team')\n",
    "plt.show()"
   ]
  },
  {
   "cell_type": "code",
   "execution_count": null,
   "metadata": {},
   "outputs": [],
   "source": []
  },
  {
   "cell_type": "code",
   "execution_count": null,
   "metadata": {},
   "outputs": [],
   "source": []
  },
  {
   "cell_type": "code",
   "execution_count": null,
   "metadata": {},
   "outputs": [],
   "source": []
  },
  {
   "cell_type": "code",
   "execution_count": null,
   "metadata": {},
   "outputs": [],
   "source": [
    "# Train_Test_Split\n",
    "# Preprocessing (standard scale, OHE, simple imputer(?), other)\n",
    "\n",
    "#X= df[]\n",
    "#y= df['winning_team']\n",
    "\n",
    "#X_train, X_test, y_train, y_test = train_test_split(X, y, test_size = 0.2, random_state=13)\n",
    "\n",
    "#scaler = StandardScaler(\n",
    "#scaler.fit(X_train)\n",
    "#X_train_ss = scaler.transform(X_train)\n",
    "#X_test_ss = scaler.transform(X_test)"
   ]
  },
  {
   "cell_type": "code",
   "execution_count": null,
   "metadata": {},
   "outputs": [],
   "source": [
    "\n",
    "#model_log1 = LogisticRegression(random_state=13)\n",
    "#model_log1.fit(X_train_ss, y_train)"
   ]
  },
  {
   "cell_type": "markdown",
   "metadata": {},
   "source": [
    "#### Notes - Working"
   ]
  },
  {
   "cell_type": "markdown",
   "metadata": {},
   "source": []
  },
  {
   "attachments": {
    "image.png": {
     "image/png": "[encoded data removed]"
    }
   },
   "cell_type": "markdown",
   "metadata": {},
   "source": [
    "![image.png](attachment:image.png)"
   ]
  },
  {
   "cell_type": "code",
   "execution_count": null,
   "metadata": {},
   "outputs": [],
   "source": []
  }
 ],
 "metadata": {
  "kernelspec": {
   "display_name": "Python (learn-env)",
   "language": "python",
   "name": "learn-env"
  },
  "language_info": {
   "codemirror_mode": {
    "name": "ipython",
    "version": 3
   },
   "file_extension": ".py",
   "mimetype": "text/x-python",
   "name": "python",
   "nbconvert_exporter": "python",
   "pygments_lexer": "ipython3",
   "version": "3.8.5"
  }
 },
 "nbformat": 4,
 "nbformat_minor": 4
}
